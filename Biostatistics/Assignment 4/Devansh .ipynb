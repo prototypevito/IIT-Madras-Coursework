{
 "cells": [
  {
   "cell_type": "markdown",
   "metadata": {},
   "source": [
    "## Imports"
   ]
  },
  {
   "cell_type": "markdown",
   "metadata": {},
   "source": [
    "## Initializing params"
   ]
  },
  {
   "cell_type": "code",
   "execution_count": 26,
   "metadata": {},
   "outputs": [],
   "source": [
    "import numba"
   ]
  },
  {
   "cell_type": "code",
   "execution_count": 27,
   "metadata": {},
   "outputs": [
    {
     "data": {
      "text/plain": [
       "'0.48.0'"
      ]
     },
     "execution_count": 27,
     "metadata": {},
     "output_type": "execute_result"
    }
   ],
   "source": [
    "numba.__version__"
   ]
  },
  {
   "cell_type": "code",
   "execution_count": null,
   "metadata": {},
   "outputs": [],
   "source": [
    "python --version"
   ]
  },
  {
   "cell_type": "code",
   "execution_count": 18,
   "metadata": {
    "jupyter": {
     "source_hidden": true
    },
    "tags": []
   },
   "outputs": [],
   "source": [
    "from numba import jit\n",
    "import pandas as pd \n",
    "import numpy as np\n",
    "import seaborn as sns\n",
    "import matplotlib.pyplot as plt\n",
    "from scipy.stats import f as ft\n",
    "from scipy.stats import t\n",
    "from time import time\n",
    "import warnings\n",
    "from decimal import *\n",
    "getcontext().prec = 6\n",
    "sns.set_style('whitegrid')\n",
    "warnings.filterwarnings('ignore')\n",
    "#Pradhyumn\n",
    "df = pd.read_excel(r'C:\\Users\\91836\\Desktop\\books\\sem 4\\BT2022 Biostats\\data4.xlsx')\n",
    "# Sahana\n",
    "# df = pd.read_excel('/Users/Pradhyumn/Downloads/dataset_all.xlsx') \n",
    "# Ishaan\n",
    "#df = pd.read_excel('/Users/Pradhyumn/Downloads/data4.xlsx') \n",
    "\n",
    "\n",
    "from IPython.core.interactiveshell import InteractiveShell\n",
    "InteractiveShell.ast_node_interactivity = \"all\"\n",
    "\n",
    "start = time()"
   ]
  },
  {
   "cell_type": "code",
   "execution_count": 19,
   "metadata": {
    "jupyter": {
     "source_hidden": true
    },
    "tags": []
   },
   "outputs": [],
   "source": [
    "y_actual = list(df.Y)\n",
    "\n",
    "a = 1.0\n",
    "b = -1.7\n",
    "c = 0.5\n",
    "d = 1.0\n",
    "h = 0.2\n",
    "\n",
    "params = [a,b,c,d,h]\n",
    "E = 2\n",
    "lamd = 50\n",
    "step = 1e-6"
   ]
  },
  {
   "cell_type": "markdown",
   "metadata": {},
   "source": [
    "## Differential Equation"
   ]
  },
  {
   "cell_type": "markdown",
   "metadata": {},
   "source": [
    "$ \\frac{df(x)}{d(x)} = dsin(x^2) - a\\sin(hxf(x)) - bcos(x{f(x)}^2) - csin(x{f(x)}^3) $"
   ]
  },
  {
   "cell_type": "markdown",
   "metadata": {},
   "source": [
    "## $\\chi^2$"
   ]
  },
  {
   "cell_type": "code",
   "execution_count": 20,
   "metadata": {
    "jupyter": {
     "source_hidden": true
    },
    "tags": []
   },
   "outputs": [],
   "source": [
    "@jit(nopython = True)\n",
    "def f(params,y_actual):\n",
    "    a = params[0] \n",
    "    b = params[1] \n",
    "    c = params[2] \n",
    "    d =  params[3] \n",
    "    h = params[4] \n",
    "    dx = 0.1\n",
    "    X = np.arange(0,10,dx)\n",
    "    y_pred = [0.0]    \n",
    "    for i in range(len(X)):\n",
    "        x = X[i]\n",
    "        y = y_pred[i]\n",
    "        estimate = y + (((d*(np.sin(x**2))) - a*np.sin(h*x*y) - b*np.cos(x*y**2) - c*np.sin(x*y**3))*dx)\n",
    "        y_pred.append(estimate)\n",
    "\n",
    "    y_pred = y_pred[:]\n",
    "    y_actual = y_actual[:]\n",
    "    chi2 = list(map(lambda x,y : (x - y)**2, y_actual, y_pred))\n",
    "    del_y = list(map(lambda x,y : (x - y), y_actual, y_pred))\n",
    "    sum = 0\n",
    "    for i in chi2:\n",
    "        sum = sum + i\n",
    "\n",
    "    return sum, np.array(y_pred), np.array(del_y)"
   ]
  },
  {
   "cell_type": "markdown",
   "metadata": {},
   "source": [
    "## Jacobian"
   ]
  },
  {
   "cell_type": "code",
   "execution_count": 21,
   "metadata": {
    "jupyter": {
     "source_hidden": true
    },
    "tags": []
   },
   "outputs": [],
   "source": [
    "@jit(nopython = True)\n",
    "def temp(params, y_actual):\n",
    "\n",
    "    dp = step\n",
    "    jmat = []\n",
    "    for i in range(5):\n",
    "        new_params = [i for i in params]\n",
    "        new_params[i] = params[i] + dp\n",
    "        # Derivative \n",
    "        jmat.append((f(new_params,y_actual)[1] - f(params,y_actual)[1])/dp)\n",
    "        \n",
    "        \n",
    "    return jmat\n",
    "\n",
    "def J(params):\n",
    "    return np.matrix(temp(params, y_actual)).T\n"
   ]
  },
  {
   "cell_type": "markdown",
   "metadata": {},
   "source": [
    "##  Marquart-Levenberg Algorithm"
   ]
  },
  {
   "cell_type": "code",
   "execution_count": 22,
   "metadata": {
    "tags": []
   },
   "outputs": [
    {
     "ename": "TypingError",
     "evalue": "Failed in nopython mode pipeline (step: nopython frontend)\n\u001b[1m\u001b[1mInvalid use of Function(<built-in function getitem>) with argument(s) of type(s): (array(float64, 1d, C), float64)\n * parameterized\n\u001b[1mIn definition 0:\u001b[0m\n\u001b[1m    All templates rejected with literals.\u001b[0m\n\u001b[1mIn definition 1:\u001b[0m\n\u001b[1m    All templates rejected without literals.\u001b[0m\n\u001b[1mIn definition 2:\u001b[0m\n\u001b[1m    All templates rejected with literals.\u001b[0m\n\u001b[1mIn definition 3:\u001b[0m\n\u001b[1m    All templates rejected without literals.\u001b[0m\n\u001b[1mIn definition 4:\u001b[0m\n\u001b[1m    All templates rejected with literals.\u001b[0m\n\u001b[1mIn definition 5:\u001b[0m\n\u001b[1m    All templates rejected without literals.\u001b[0m\n\u001b[1mIn definition 6:\u001b[0m\n\u001b[1m    All templates rejected with literals.\u001b[0m\n\u001b[1mIn definition 7:\u001b[0m\n\u001b[1m    All templates rejected without literals.\u001b[0m\n\u001b[1mIn definition 8:\u001b[0m\n\u001b[1m    All templates rejected with literals.\u001b[0m\n\u001b[1mIn definition 9:\u001b[0m\n\u001b[1m    All templates rejected without literals.\u001b[0m\n\u001b[1mIn definition 10:\u001b[0m\n\u001b[1m    All templates rejected with literals.\u001b[0m\n\u001b[1mIn definition 11:\u001b[0m\n\u001b[1m    All templates rejected without literals.\u001b[0m\n\u001b[1mIn definition 12:\u001b[0m\n\u001b[1m    TypeError: unsupported array index type float64 in [float64]\u001b[0m\n    raised from C:\\Users\\91836\\anaconda3\\lib\\site-packages\\numba\\typing\\arraydecl.py:71\n\u001b[1mIn definition 13:\u001b[0m\n\u001b[1m    TypeError: unsupported array index type float64 in [float64]\u001b[0m\n    raised from C:\\Users\\91836\\anaconda3\\lib\\site-packages\\numba\\typing\\arraydecl.py:71\n\u001b[1mThis error is usually caused by passing an argument of a type that is unsupported by the named function.\u001b[0m\u001b[0m\n\u001b[0m\u001b[1m[1] During: typing of intrinsic-call at <ipython-input-20-ae95de9dc2f6> (12)\u001b[0m\n\u001b[1m\nFile \"<ipython-input-20-ae95de9dc2f6>\", line 12:\u001b[0m\n\u001b[1mdef f(params,y_actual):\n    <source elided>\n    for i in range(len(X)):\n\u001b[1m        x = X[i]\n\u001b[0m        \u001b[1m^\u001b[0m\u001b[0m\n",
     "output_type": "error",
     "traceback": [
      "\u001b[1;31m---------------------------------------------------------------------------\u001b[0m",
      "\u001b[1;31mTypingError\u001b[0m                               Traceback (most recent call last)",
      "\u001b[1;32m<ipython-input-22-d735fd1075b7>\u001b[0m in \u001b[0;36m<module>\u001b[1;34m\u001b[0m\n\u001b[1;32m----> 1\u001b[1;33m \u001b[0m_\u001b[0m\u001b[1;33m,\u001b[0m \u001b[0my_pred\u001b[0m\u001b[1;33m,\u001b[0m \u001b[0mdel_y\u001b[0m \u001b[1;33m=\u001b[0m \u001b[0mf\u001b[0m\u001b[1;33m(\u001b[0m\u001b[0mparams\u001b[0m\u001b[1;33m,\u001b[0m\u001b[0my_actual\u001b[0m\u001b[1;33m)\u001b[0m\u001b[1;33m\u001b[0m\u001b[1;33m\u001b[0m\u001b[0m\n\u001b[0m\u001b[0;32m      2\u001b[0m \u001b[0mjmat\u001b[0m \u001b[1;33m=\u001b[0m \u001b[0mJ\u001b[0m\u001b[1;33m(\u001b[0m\u001b[0mparams\u001b[0m\u001b[1;33m)\u001b[0m\u001b[1;33m\u001b[0m\u001b[1;33m\u001b[0m\u001b[0m\n\u001b[0;32m      3\u001b[0m \u001b[0mi\u001b[0m \u001b[1;33m=\u001b[0m \u001b[1;36m0\u001b[0m\u001b[1;33m\u001b[0m\u001b[1;33m\u001b[0m\u001b[0m\n\u001b[0;32m      4\u001b[0m \u001b[0ms\u001b[0m \u001b[1;33m=\u001b[0m \u001b[1;36m1\u001b[0m\u001b[1;33m\u001b[0m\u001b[1;33m\u001b[0m\u001b[0m\n\u001b[0;32m      5\u001b[0m \u001b[1;32mwhile\u001b[0m \u001b[1;33m(\u001b[0m\u001b[0ms\u001b[0m \u001b[1;33m>\u001b[0m \u001b[1;36m1e-12\u001b[0m\u001b[1;33m)\u001b[0m\u001b[1;33m:\u001b[0m\u001b[1;33m\u001b[0m\u001b[1;33m\u001b[0m\u001b[0m\n",
      "\u001b[1;32m~\\anaconda3\\lib\\site-packages\\numba\\dispatcher.py\u001b[0m in \u001b[0;36m_compile_for_args\u001b[1;34m(self, *args, **kws)\u001b[0m\n\u001b[0;32m    399\u001b[0m                 \u001b[0me\u001b[0m\u001b[1;33m.\u001b[0m\u001b[0mpatch_message\u001b[0m\u001b[1;33m(\u001b[0m\u001b[0mmsg\u001b[0m\u001b[1;33m)\u001b[0m\u001b[1;33m\u001b[0m\u001b[1;33m\u001b[0m\u001b[0m\n\u001b[0;32m    400\u001b[0m \u001b[1;33m\u001b[0m\u001b[0m\n\u001b[1;32m--> 401\u001b[1;33m             \u001b[0merror_rewrite\u001b[0m\u001b[1;33m(\u001b[0m\u001b[0me\u001b[0m\u001b[1;33m,\u001b[0m \u001b[1;34m'typing'\u001b[0m\u001b[1;33m)\u001b[0m\u001b[1;33m\u001b[0m\u001b[1;33m\u001b[0m\u001b[0m\n\u001b[0m\u001b[0;32m    402\u001b[0m         \u001b[1;32mexcept\u001b[0m \u001b[0merrors\u001b[0m\u001b[1;33m.\u001b[0m\u001b[0mUnsupportedError\u001b[0m \u001b[1;32mas\u001b[0m \u001b[0me\u001b[0m\u001b[1;33m:\u001b[0m\u001b[1;33m\u001b[0m\u001b[1;33m\u001b[0m\u001b[0m\n\u001b[0;32m    403\u001b[0m             \u001b[1;31m# Something unsupported is present in the user code, add help info\u001b[0m\u001b[1;33m\u001b[0m\u001b[1;33m\u001b[0m\u001b[1;33m\u001b[0m\u001b[0m\n",
      "\u001b[1;32m~\\anaconda3\\lib\\site-packages\\numba\\dispatcher.py\u001b[0m in \u001b[0;36merror_rewrite\u001b[1;34m(e, issue_type)\u001b[0m\n\u001b[0;32m    342\u001b[0m                 \u001b[1;32mraise\u001b[0m \u001b[0me\u001b[0m\u001b[1;33m\u001b[0m\u001b[1;33m\u001b[0m\u001b[0m\n\u001b[0;32m    343\u001b[0m             \u001b[1;32melse\u001b[0m\u001b[1;33m:\u001b[0m\u001b[1;33m\u001b[0m\u001b[1;33m\u001b[0m\u001b[0m\n\u001b[1;32m--> 344\u001b[1;33m                 \u001b[0mreraise\u001b[0m\u001b[1;33m(\u001b[0m\u001b[0mtype\u001b[0m\u001b[1;33m(\u001b[0m\u001b[0me\u001b[0m\u001b[1;33m)\u001b[0m\u001b[1;33m,\u001b[0m \u001b[0me\u001b[0m\u001b[1;33m,\u001b[0m \u001b[1;32mNone\u001b[0m\u001b[1;33m)\u001b[0m\u001b[1;33m\u001b[0m\u001b[1;33m\u001b[0m\u001b[0m\n\u001b[0m\u001b[0;32m    345\u001b[0m \u001b[1;33m\u001b[0m\u001b[0m\n\u001b[0;32m    346\u001b[0m         \u001b[0margtypes\u001b[0m \u001b[1;33m=\u001b[0m \u001b[1;33m[\u001b[0m\u001b[1;33m]\u001b[0m\u001b[1;33m\u001b[0m\u001b[1;33m\u001b[0m\u001b[0m\n",
      "\u001b[1;32m~\\anaconda3\\lib\\site-packages\\numba\\six.py\u001b[0m in \u001b[0;36mreraise\u001b[1;34m(tp, value, tb)\u001b[0m\n\u001b[0;32m    666\u001b[0m             \u001b[0mvalue\u001b[0m \u001b[1;33m=\u001b[0m \u001b[0mtp\u001b[0m\u001b[1;33m(\u001b[0m\u001b[1;33m)\u001b[0m\u001b[1;33m\u001b[0m\u001b[1;33m\u001b[0m\u001b[0m\n\u001b[0;32m    667\u001b[0m         \u001b[1;32mif\u001b[0m \u001b[0mvalue\u001b[0m\u001b[1;33m.\u001b[0m\u001b[0m__traceback__\u001b[0m \u001b[1;32mis\u001b[0m \u001b[1;32mnot\u001b[0m \u001b[0mtb\u001b[0m\u001b[1;33m:\u001b[0m\u001b[1;33m\u001b[0m\u001b[1;33m\u001b[0m\u001b[0m\n\u001b[1;32m--> 668\u001b[1;33m             \u001b[1;32mraise\u001b[0m \u001b[0mvalue\u001b[0m\u001b[1;33m.\u001b[0m\u001b[0mwith_traceback\u001b[0m\u001b[1;33m(\u001b[0m\u001b[0mtb\u001b[0m\u001b[1;33m)\u001b[0m\u001b[1;33m\u001b[0m\u001b[1;33m\u001b[0m\u001b[0m\n\u001b[0m\u001b[0;32m    669\u001b[0m         \u001b[1;32mraise\u001b[0m \u001b[0mvalue\u001b[0m\u001b[1;33m\u001b[0m\u001b[1;33m\u001b[0m\u001b[0m\n\u001b[0;32m    670\u001b[0m \u001b[1;33m\u001b[0m\u001b[0m\n",
      "\u001b[1;31mTypingError\u001b[0m: Failed in nopython mode pipeline (step: nopython frontend)\n\u001b[1m\u001b[1mInvalid use of Function(<built-in function getitem>) with argument(s) of type(s): (array(float64, 1d, C), float64)\n * parameterized\n\u001b[1mIn definition 0:\u001b[0m\n\u001b[1m    All templates rejected with literals.\u001b[0m\n\u001b[1mIn definition 1:\u001b[0m\n\u001b[1m    All templates rejected without literals.\u001b[0m\n\u001b[1mIn definition 2:\u001b[0m\n\u001b[1m    All templates rejected with literals.\u001b[0m\n\u001b[1mIn definition 3:\u001b[0m\n\u001b[1m    All templates rejected without literals.\u001b[0m\n\u001b[1mIn definition 4:\u001b[0m\n\u001b[1m    All templates rejected with literals.\u001b[0m\n\u001b[1mIn definition 5:\u001b[0m\n\u001b[1m    All templates rejected without literals.\u001b[0m\n\u001b[1mIn definition 6:\u001b[0m\n\u001b[1m    All templates rejected with literals.\u001b[0m\n\u001b[1mIn definition 7:\u001b[0m\n\u001b[1m    All templates rejected without literals.\u001b[0m\n\u001b[1mIn definition 8:\u001b[0m\n\u001b[1m    All templates rejected with literals.\u001b[0m\n\u001b[1mIn definition 9:\u001b[0m\n\u001b[1m    All templates rejected without literals.\u001b[0m\n\u001b[1mIn definition 10:\u001b[0m\n\u001b[1m    All templates rejected with literals.\u001b[0m\n\u001b[1mIn definition 11:\u001b[0m\n\u001b[1m    All templates rejected without literals.\u001b[0m\n\u001b[1mIn definition 12:\u001b[0m\n\u001b[1m    TypeError: unsupported array index type float64 in [float64]\u001b[0m\n    raised from C:\\Users\\91836\\anaconda3\\lib\\site-packages\\numba\\typing\\arraydecl.py:71\n\u001b[1mIn definition 13:\u001b[0m\n\u001b[1m    TypeError: unsupported array index type float64 in [float64]\u001b[0m\n    raised from C:\\Users\\91836\\anaconda3\\lib\\site-packages\\numba\\typing\\arraydecl.py:71\n\u001b[1mThis error is usually caused by passing an argument of a type that is unsupported by the named function.\u001b[0m\u001b[0m\n\u001b[0m\u001b[1m[1] During: typing of intrinsic-call at <ipython-input-20-ae95de9dc2f6> (12)\u001b[0m\n\u001b[1m\nFile \"<ipython-input-20-ae95de9dc2f6>\", line 12:\u001b[0m\n\u001b[1mdef f(params,y_actual):\n    <source elided>\n    for i in range(len(X)):\n\u001b[1m        x = X[i]\n\u001b[0m        \u001b[1m^\u001b[0m\u001b[0m\n"
     ]
    }
   ],
   "source": [
    "_, y_pred, del_y = f(params,y_actual)\n",
    "jmat = J(params)\n",
    "i = 0\n",
    "s = 1\n",
    "while (s > 1e-12):\n",
    "    \n",
    "    chi2_old = f(params,y_actual)[0]\n",
    "    del_y = del_y.reshape(-1,1)\n",
    "    params = np.array(params).reshape(-1,1)\n",
    "    new_params = params + ((jmat.T*jmat) + lamd * np.diag(np.diag(jmat.T * jmat)))**-1 * jmat.T * del_y\n",
    "    new_params = list(np.array(new_params).flatten())\n",
    "    params = list(params.flatten())\n",
    "    chi2_new = f(new_params, y_actual)[0]\n",
    "    \n",
    "    if chi2_new > chi2_old:\n",
    "        if lamd*E < 10**8:\n",
    "            lamd = lamd * E\n",
    "            s = abs(chi2_new - chi2_old)\n",
    "            \n",
    "    else:\n",
    "        if lamd / E > 10**-3:\n",
    "            lamd = lamd / E\n",
    "        params = new_params\n",
    "        jmat = J(params)\n",
    "        chi2_new, _, del_y = f(params,y_actual)\n",
    "        s = abs(chi2_new - chi2_old)\n",
    "        chi2_old = chi2_new\n",
    "        i = i+1\n",
    "    "
   ]
  },
  {
   "cell_type": "markdown",
   "metadata": {},
   "source": [
    "## Anova"
   ]
  },
  {
   "cell_type": "code",
   "execution_count": 6,
   "metadata": {
    "jupyter": {
     "source_hidden": true
    },
    "tags": []
   },
   "outputs": [
    {
     "data": {
      "text/html": [
       "<div>\n",
       "<style scoped>\n",
       "    .dataframe tbody tr th:only-of-type {\n",
       "        vertical-align: middle;\n",
       "    }\n",
       "\n",
       "    .dataframe tbody tr th {\n",
       "        vertical-align: top;\n",
       "    }\n",
       "\n",
       "    .dataframe thead th {\n",
       "        text-align: right;\n",
       "    }\n",
       "</style>\n",
       "<table border=\"1\" class=\"dataframe\">\n",
       "  <thead>\n",
       "    <tr style=\"text-align: right;\">\n",
       "      <th></th>\n",
       "      <th>Sum of Squares</th>\n",
       "      <th>df</th>\n",
       "      <th>Mean Error</th>\n",
       "    </tr>\n",
       "  </thead>\n",
       "  <tbody>\n",
       "    <tr>\n",
       "      <th>SSR</th>\n",
       "      <td>10.173371</td>\n",
       "      <td>1</td>\n",
       "      <td>10.173371</td>\n",
       "    </tr>\n",
       "    <tr>\n",
       "      <th>SSE</th>\n",
       "      <td>0.011221</td>\n",
       "      <td>99</td>\n",
       "      <td>0.000113</td>\n",
       "    </tr>\n",
       "    <tr>\n",
       "      <th>Total</th>\n",
       "      <td>10.184592</td>\n",
       "      <td>100</td>\n",
       "      <td>10.173484</td>\n",
       "    </tr>\n",
       "  </tbody>\n",
       "</table>\n",
       "</div>"
      ],
      "text/plain": [
       "       Sum of Squares   df  Mean Error\n",
       "SSR         10.173371    1   10.173371\n",
       "SSE          0.011221   99    0.000113\n",
       "Total       10.184592  100   10.173484"
      ]
     },
     "execution_count": 6,
     "metadata": {},
     "output_type": "execute_result"
    },
    {
     "name": "stdout",
     "output_type": "stream",
     "text": [
      "\n",
      "F Score : 89759.21764809637\n",
      "p value : 2.220446049250313e-16\n",
      "R_2 : 1.0\n",
      "Adjusted R_2 : 1.0\n",
      "RMSE : 0.010646158163816491\n"
     ]
    }
   ],
   "source": [
    "y_pred = f(params,y_actual)[1]\n",
    "\n",
    "# Sum of Squared errors between mean Y and regression predictions\n",
    "SSR = np.sum((y_pred - np.mean(y_actual))**2)\n",
    "SSR_df = 1\n",
    "MSR = SSR/SSR_df\n",
    "\n",
    "# Sum of Squared errors between actual values and regression predictions\n",
    "SSE = np.sum((y_pred - y_actual)**2)\n",
    "SSE_df = 101 - 1 - 1\n",
    "MSE = SSE/SSE_df\n",
    "\n",
    "# Total sum of squared errors\n",
    "SST = SSE + SSR\n",
    "SST_df = SSE_df + SSR_df\n",
    "MST = MSE + MSR\n",
    "\n",
    "# R^2\n",
    "R_2 = SSR/SSR\n",
    "\n",
    "# Adjusted R^2\n",
    "adjR_2 = 1 - (1-R_2) * (101-1) / (101-1-1)\n",
    "\n",
    "# Root Mean Squared Error\n",
    "RMSE = (SSE / (101-1-1))**0.5\n",
    "\n",
    "#Performing F test for checking if difference in variance is significant\n",
    "F = MSR/MSE\n",
    "pvalue_F = (1 - ft.cdf(F,SSR_df,SSE_df))*2\n",
    "\n",
    "index = ['SSR', 'SSE', 'Total']\n",
    "Anova = pd.DataFrame([SSR,SSE,SST], index = index, columns = ['Sum of Squares'])\n",
    "Anova['df'] = [SSR_df,SSE_df,SST_df]\n",
    "Anova['Mean Error'] = [MSR,MSE,MST]\n",
    "Anova\n",
    "print(f'\\nF Score : {F}\\np value : {pvalue_F}\\nR_2 : {R_2}\\nAdjusted R_2 : {adjR_2}\\nRMSE : {RMSE}')"
   ]
  },
  {
   "cell_type": "markdown",
   "metadata": {},
   "source": [
    "## Error Analysis"
   ]
  },
  {
   "cell_type": "code",
   "execution_count": 7,
   "metadata": {
    "jupyter": {
     "source_hidden": true
    },
    "tags": []
   },
   "outputs": [
    {
     "data": {
      "text/html": [
       "<div>\n",
       "<style scoped>\n",
       "    .dataframe tbody tr th:only-of-type {\n",
       "        vertical-align: middle;\n",
       "    }\n",
       "\n",
       "    .dataframe tbody tr th {\n",
       "        vertical-align: top;\n",
       "    }\n",
       "\n",
       "    .dataframe thead th {\n",
       "        text-align: right;\n",
       "    }\n",
       "</style>\n",
       "<table border=\"1\" class=\"dataframe\">\n",
       "  <thead>\n",
       "    <tr style=\"text-align: right;\">\n",
       "      <th></th>\n",
       "      <th>Value</th>\n",
       "      <th>Std Error</th>\n",
       "      <th>t value</th>\n",
       "      <th>p value</th>\n",
       "      <th>Error at 2.563%</th>\n",
       "    </tr>\n",
       "  </thead>\n",
       "  <tbody>\n",
       "    <tr>\n",
       "      <th>a</th>\n",
       "      <td>1.147038</td>\n",
       "      <td>0.238384</td>\n",
       "      <td>4.811716</td>\n",
       "      <td>5.365953e-06</td>\n",
       "      <td>0.540173</td>\n",
       "    </tr>\n",
       "    <tr>\n",
       "      <th>b</th>\n",
       "      <td>-1.876034</td>\n",
       "      <td>0.009530</td>\n",
       "      <td>-196.852286</td>\n",
       "      <td>3.256518e-130</td>\n",
       "      <td>0.021595</td>\n",
       "    </tr>\n",
       "    <tr>\n",
       "      <th>c</th>\n",
       "      <td>0.572188</td>\n",
       "      <td>0.025649</td>\n",
       "      <td>22.308507</td>\n",
       "      <td>0.000000e+00</td>\n",
       "      <td>0.058120</td>\n",
       "    </tr>\n",
       "    <tr>\n",
       "      <th>d</th>\n",
       "      <td>1.412780</td>\n",
       "      <td>0.010943</td>\n",
       "      <td>129.101399</td>\n",
       "      <td>0.000000e+00</td>\n",
       "      <td>0.024797</td>\n",
       "    </tr>\n",
       "    <tr>\n",
       "      <th>h</th>\n",
       "      <td>0.210587</td>\n",
       "      <td>0.047014</td>\n",
       "      <td>4.479282</td>\n",
       "      <td>2.010897e-05</td>\n",
       "      <td>0.106531</td>\n",
       "    </tr>\n",
       "  </tbody>\n",
       "</table>\n",
       "</div>"
      ],
      "text/plain": [
       "      Value  Std Error     t value        p value  Error at 2.563%\n",
       "a  1.147038   0.238384    4.811716   5.365953e-06         0.540173\n",
       "b -1.876034   0.009530 -196.852286  3.256518e-130         0.021595\n",
       "c  0.572188   0.025649   22.308507   0.000000e+00         0.058120\n",
       "d  1.412780   0.010943  129.101399   0.000000e+00         0.024797\n",
       "h  0.210587   0.047014    4.479282   2.010897e-05         0.106531"
      ]
     },
     "execution_count": 7,
     "metadata": {},
     "output_type": "execute_result"
    },
    {
     "name": "stdout",
     "output_type": "stream",
     "text": [
      "Covarinace [4,4] = 0.0022102696208893564\n",
      "Lambda = 0.00152587890625\n",
      "Iterations = 22\n"
     ]
    }
   ],
   "source": [
    "cov_mat = (jmat.T*jmat)**-1 * SSE / (101-1-1)\n",
    "cov_diag = np.diag(cov_mat)\n",
    "std_err = cov_diag**0.5\n",
    "t_vals = np.array(params) / std_err\n",
    "\n",
    "p_vals1 = ((1- t.cdf(t_vals, 101-1-1))*2)\n",
    "p_vals2 = (t.cdf(t_vals, 101-1-1))*2\n",
    "p_vals = [min(a,b) for a,b in zip(p_vals1, p_vals2)]\n",
    "\n",
    "alpha = 0.02563\n",
    "std_alpha = abs(t.ppf(alpha/2,101-1-1))*std_err\n",
    "\n",
    "index = ['a','b','c','d','h']\n",
    "err = pd.DataFrame(params, index = index, columns = ['Value'])\n",
    "err['Std Error'] = std_err\n",
    "err['t value'] = t_vals\n",
    "err['p value'] = p_vals\n",
    "err['Error at 2.563%'] = std_alpha\n",
    "err\n",
    "\n",
    "print(f'Covarinace [4,4] = {cov_mat[4,4]}')\n",
    "print(f'Lambda = {lamd}')\n",
    "print(f'Iterations = {i}')\n"
   ]
  },
  {
   "cell_type": "markdown",
   "metadata": {},
   "source": [
    "## Visualize!"
   ]
  },
  {
   "cell_type": "code",
   "execution_count": 8,
   "metadata": {
    "jupyter": {
     "source_hidden": true
    },
    "tags": []
   },
   "outputs": [
    {
     "data": {
      "text/plain": [
       "<Figure size 2160x720 with 0 Axes>"
      ]
     },
     "execution_count": 8,
     "metadata": {},
     "output_type": "execute_result"
    },
    {
     "data": {
      "text/plain": [
       "<matplotlib.collections.PathCollection at 0x7fa3e5d89910>"
      ]
     },
     "execution_count": 8,
     "metadata": {},
     "output_type": "execute_result"
    },
    {
     "data": {
      "text/plain": [
       "<matplotlib.collections.PathCollection at 0x7fa3e599a250>"
      ]
     },
     "execution_count": 8,
     "metadata": {},
     "output_type": "execute_result"
    },
    {
     "data": {
      "text/plain": [
       "<matplotlib.legend.Legend at 0x7fa3e5d89d30>"
      ]
     },
     "execution_count": 8,
     "metadata": {},
     "output_type": "execute_result"
    },
    {
     "data": {
      "image/png": "[encoded data removed]",
      "text/plain": [
       "<Figure size 2160x720 with 1 Axes>"
      ]
     },
     "metadata": {},
     "output_type": "display_data"
    },
    {
     "name": "stdout",
     "output_type": "stream",
     "text": [
      "Time to run : 38.346197843551636\n"
     ]
    }
   ],
   "source": [
    "pred = f(params,y_actual)[1]\n",
    "plt.figure(figsize = (30,10));\n",
    "plt.scatter(x = df.X, y = df.Y, facecolor = 'red', edgecolor = 'red', s = 300, label = 'actual');\n",
    "plt.scatter(x = df.X, y = pred, facecolor = 'blue', edgecolor = 'blue', s = 300, label = 'predicted');\n",
    "plt.legend(prop = {\"size\" : 30})\n",
    "plt.show()\n",
    "end = time()\n",
    "print(f'Time to run : {end - start}')"
   ]
  }
 ],
 "metadata": {
  "kernelspec": {
   "display_name": "Python 3",
   "language": "python",
   "name": "python3"
  },
  "language_info": {
   "codemirror_mode": {
    "name": "ipython",
    "version": 3
   },
   "file_extension": ".py",
   "mimetype": "text/x-python",
   "name": "python",
   "nbconvert_exporter": "python",
   "pygments_lexer": "ipython3",
   "version": "3.7.6"
  }
 },
 "nbformat": 4,
 "nbformat_minor": 5
}
