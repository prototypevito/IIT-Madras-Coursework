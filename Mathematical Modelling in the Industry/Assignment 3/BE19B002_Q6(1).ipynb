{
 "cells": [
  {
   "cell_type": "code",
   "execution_count": 1,
   "metadata": {},
   "outputs": [],
   "source": [
    "import numpy as np\n",
    "import pandas as pd\n",
    "import matplotlib.pyplot as plt\n",
    "import random \n",
    "import sklearn\n",
    "from sklearn.preprocessing import LabelEncoder\n",
    "from sklearn.model_selection import train_test_split\n",
    "from sklearn.tree import DecisionTreeClassifier\n",
    "from sklearn.metrics import classification_report\n",
    "from sklearn.tree import plot_tree"
   ]
  },
  {
   "cell_type": "code",
   "execution_count": 2,
   "metadata": {},
   "outputs": [
    {
     "name": "stdout",
     "output_type": "stream",
     "text": [
      "['L' 'N' 'L' 'H' 'H' 'L' 'L' 'N' 'L' 'N' 'N' 'L' 'N' 'L' 'L' 'N' 'H' 'N'\n",
      " 'L' 'L' 'N' 'L' 'H' 'L' 'N' 'N' 'N' 'H' 'N' 'L' 'L' 'N' 'H' 'L' 'N' 'L'\n",
      " 'L' 'H' 'L' 'N' 'H' 'N' 'H' 'L' 'L' 'L' 'L' 'H' 'N' 'N' 'H' 'N' 'L' 'N'\n",
      " 'N' 'L' 'H' 'H' 'L' 'L' 'L' 'H' 'L' 'H' 'L' 'L' 'H' 'N' 'H' 'N' 'L' 'N'\n",
      " 'H' 'L' 'H' 'L' 'N' 'N' 'L' 'L' 'H' 'L' 'N' 'N' 'H' 'L' 'L' 'L' 'L' 'L'\n",
      " 'N' 'H' 'L' 'H' 'L' 'N' 'H' 'N' 'N' 'H']\n"
     ]
    },
    {
     "data": {
      "text/html": [
       "<div>\n",
       "<style scoped>\n",
       "    .dataframe tbody tr th:only-of-type {\n",
       "        vertical-align: middle;\n",
       "    }\n",
       "\n",
       "    .dataframe tbody tr th {\n",
       "        vertical-align: top;\n",
       "    }\n",
       "\n",
       "    .dataframe thead th {\n",
       "        text-align: right;\n",
       "    }\n",
       "</style>\n",
       "<table border=\"1\" class=\"dataframe\">\n",
       "  <thead>\n",
       "    <tr style=\"text-align: right;\">\n",
       "      <th></th>\n",
       "      <th>Age</th>\n",
       "      <th>Weight(Kgs)</th>\n",
       "      <th>Sleep (hours)</th>\n",
       "      <th>Income ($ per hour)</th>\n",
       "      <th>Drink</th>\n",
       "      <th>Sports</th>\n",
       "      <th>Salt</th>\n",
       "      <th>Gender_F</th>\n",
       "      <th>Gender_M</th>\n",
       "    </tr>\n",
       "  </thead>\n",
       "  <tbody>\n",
       "    <tr>\n",
       "      <th>0</th>\n",
       "      <td>112</td>\n",
       "      <td>106</td>\n",
       "      <td>9</td>\n",
       "      <td>130</td>\n",
       "      <td>1</td>\n",
       "      <td>9</td>\n",
       "      <td>2</td>\n",
       "      <td>0</td>\n",
       "      <td>1</td>\n",
       "    </tr>\n",
       "    <tr>\n",
       "      <th>1</th>\n",
       "      <td>93</td>\n",
       "      <td>130</td>\n",
       "      <td>13</td>\n",
       "      <td>3027</td>\n",
       "      <td>5</td>\n",
       "      <td>2</td>\n",
       "      <td>9</td>\n",
       "      <td>1</td>\n",
       "      <td>0</td>\n",
       "    </tr>\n",
       "    <tr>\n",
       "      <th>2</th>\n",
       "      <td>25</td>\n",
       "      <td>83</td>\n",
       "      <td>17</td>\n",
       "      <td>4070</td>\n",
       "      <td>2</td>\n",
       "      <td>2</td>\n",
       "      <td>3</td>\n",
       "      <td>0</td>\n",
       "      <td>1</td>\n",
       "    </tr>\n",
       "    <tr>\n",
       "      <th>3</th>\n",
       "      <td>57</td>\n",
       "      <td>66</td>\n",
       "      <td>6</td>\n",
       "      <td>1511</td>\n",
       "      <td>2</td>\n",
       "      <td>3</td>\n",
       "      <td>1</td>\n",
       "      <td>0</td>\n",
       "      <td>1</td>\n",
       "    </tr>\n",
       "    <tr>\n",
       "      <th>4</th>\n",
       "      <td>31</td>\n",
       "      <td>145</td>\n",
       "      <td>5</td>\n",
       "      <td>952</td>\n",
       "      <td>2</td>\n",
       "      <td>4</td>\n",
       "      <td>5</td>\n",
       "      <td>0</td>\n",
       "      <td>1</td>\n",
       "    </tr>\n",
       "  </tbody>\n",
       "</table>\n",
       "</div>"
      ],
      "text/plain": [
       "   Age Weight(Kgs) Sleep (hours) Income ($ per hour) Drink Sports Salt  \\\n",
       "0  112         106             9                 130     1      9    2   \n",
       "1   93         130            13                3027     5      2    9   \n",
       "2   25          83            17                4070     2      2    3   \n",
       "3   57          66             6                1511     2      3    1   \n",
       "4   31         145             5                 952     2      4    5   \n",
       "\n",
       "   Gender_F  Gender_M  \n",
       "0         0         1  \n",
       "1         1         0  \n",
       "2         0         1  \n",
       "3         0         1  \n",
       "4         0         1  "
      ]
     },
     "execution_count": 2,
     "metadata": {},
     "output_type": "execute_result"
    }
   ],
   "source": [
    "age=np.random.randint(1,121,size=100) ##The range of age is an approximate by myself to restrict the data to a sensible set of integers.\n",
    "weight=np.random.randint(20,151,size=100) #The range of weights is an approximate by myself to restrict the data to a sensible set of integers.\n",
    "sleep=np.random.randint(0,24,size=100)\n",
    "income=np.random.randint(7,4500,size=100) #The lowest and highest income in dollars per hour was taken from the internet for better data.\n",
    "drink=np.random.randint(1,6,size=100) \n",
    "gender=np.random.choice([\"M\",\"F\"],size=100,replace=True)\n",
    "sports=np.random.choice([1,2,3,4,5,9], size=100)\n",
    "salt=np.random.choice([1,2,3,4,5,9],size=100)\n",
    "hypertension=np.random.choice([\"L\",\"H\",\"N\"],size=100, replace=True)\n",
    "\n",
    "\n",
    "attributes_class=[age,weight,sleep,income,drink,gender,sports,salt,hypertension]\n",
    "\n",
    "df=pd.DataFrame(attributes_class).transpose()\n",
    "df.columns=[\"Age\",\"Weight(Kgs)\",\"Sleep (hours)\",\"Income ($ per hour)\",\"Drink\",\"Gender\",\"Sports\",\"Salt\",\"Hypertension\"]\n",
    "\n",
    "df=pd.get_dummies(df,columns=[\"Gender\"])\n",
    "\n",
    "dummy1=df.copy()\n",
    "dummy1.drop(\"Hypertension\",axis=1, inplace=True)\n",
    "X=dummy1\n",
    "y=hypertension\n",
    "print(y)\n",
    "dummy1.head()\n"
   ]
  },
  {
   "cell_type": "code",
   "execution_count": 3,
   "metadata": {},
   "outputs": [
    {
     "name": "stdout",
     "output_type": "stream",
     "text": [
      "Training Split input-  (70, 9)\n",
      "Testing Split input-  (30, 9)\n"
     ]
    }
   ],
   "source": [
    "X_train,X_test,y_train,y_test=train_test_split(X,y,test_size=0.3, random_state=45)\n",
    "print(\"Training Split input- \", X_train.shape)\n",
    "print(\"Testing Split input- \", X_test.shape)\n"
   ]
  },
  {
   "cell_type": "code",
   "execution_count": 4,
   "metadata": {},
   "outputs": [
    {
     "name": "stdout",
     "output_type": "stream",
     "text": [
      "Decision Tree Classifier Created\n",
      "['N' 'L' 'H' 'L' 'H' 'L' 'N' 'N' 'H' 'L' 'L' 'N' 'L' 'H' 'H' 'H' 'N' 'H'\n",
      " 'L' 'N' 'L' 'L' 'L' 'L' 'N' 'N' 'H' 'H' 'L' 'L']\n",
      "The accuracy score is: 26.666666666666668%\n",
      "The error percentage is: 73.33333333333334% \n"
     ]
    }
   ],
   "source": [
    "#The code below tests the classification tree and calculates the accuracy and the error percentages, using the python packages.\n",
    "\n",
    "dtree=DecisionTreeClassifier()\n",
    "dtree.fit(X_train,y_train)\n",
    "print(\"Decision Tree Classifier Created\")\n",
    "y_pred=dtree.predict(X_test)\n",
    "print(y_pred)\n",
    "report=classification_report(y_test,y_pred,output_dict=True)\n",
    "accuracy_score=(report[\"accuracy\"])*100\n",
    "error=(1-report[\"accuracy\"])*100\n",
    "print(f\"The accuracy score is: {accuracy_score}%\")\n",
    "print(f\"The error percentage is: {error}% \")"
   ]
  },
  {
   "cell_type": "code",
   "execution_count": 5,
   "metadata": {},
   "outputs": [
    {
     "data": {
      "image/png": "[encoded data removed]",
      "text/plain": [
       "<Figure size 432x288 with 1 Axes>"
      ]
     },
     "metadata": {
      "needs_background": "light"
     },
     "output_type": "display_data"
    }
   ],
   "source": [
    "dec_tree = plot_tree(decision_tree=dtree, feature_names = X.columns, \n",
    "                     class_names =[\"L\",\"H\",\"N\"] , filled = True , precision = 4, rounded = True)"
   ]
  },
  {
   "cell_type": "markdown",
   "metadata": {},
   "source": [
    "<b>We can see that pruning won't work as most of the nodes here have two divisions and more than one leaf. However,a more concrete proof is shown in the next cell.</b>"
   ]
  },
  {
   "cell_type": "code",
   "execution_count": 6,
   "metadata": {},
   "outputs": [
    {
     "data": {
      "image/png": "[encoded data removed]",
      "text/plain": [
       "<Figure size 432x288 with 1 Axes>"
      ]
     },
     "metadata": {
      "needs_background": "light"
     },
     "output_type": "display_data"
    }
   ],
   "source": [
    "#The code below checks if pruning the data will help get better results. This is done by using the complexity pruning path module in python. \n",
    "#We set different ccp_alpha values in the Treeclassifier and check the accuracy of the classifier in each case.\n",
    "\n",
    "clf = DecisionTreeClassifier(random_state=0)\n",
    "path = clf.cost_complexity_pruning_path(X_train, y_train)\n",
    "ccp_alphas, impurities = path.ccp_alphas, path.impurities\n",
    "clfs = []\n",
    "for ccp_alpha in ccp_alphas:\n",
    "    clf = DecisionTreeClassifier(random_state=0, ccp_alpha=ccp_alpha)\n",
    "    clf.fit(X_train, y_train)\n",
    "    clfs.append(clf)\n",
    "train_scores = [clf.score(X_train, y_train) for clf in clfs]\n",
    "test_scores = [clf.score(X_test, y_test) for clf in clfs]\n",
    "\n",
    "fig, ax = plt.subplots()\n",
    "ax.set_xlabel(\"alpha\")\n",
    "ax.set_ylabel(\"accuracy\")\n",
    "ax.set_title(\"Accuracy vs alpha for training and testing sets\")\n",
    "ax.plot(ccp_alphas, train_scores, marker=\"o\", label=\"train\", drawstyle=\"steps-post\")\n",
    "ax.plot(ccp_alphas, test_scores, marker=\"o\", label=\"test\", drawstyle=\"steps-post\")\n",
    "ax.legend()\n",
    "plt.show()"
   ]
  },
  {
   "cell_type": "markdown",
   "metadata": {},
   "source": [
    "<b>THE ANSWER\n",
    "\n",
    "The error of the classification tree without any parameters came out to be: 73.33%\n",
    "The accuracy of the classification tree came out to be: 26.66%.\n",
    "\n",
    "The low accuracy could be due to overfitting of the data. \n",
    "\n",
    "However,as shown in the plot above, pruning the data also doesn't help the classification tree. This is seen by an almost constant accuracy of 26.66%, no matter what the ccp alpha is. CCP alpha is 0 when no pruning is done. Therefore pruning does not improve the accuracy by a lot, it does so by merely 2-3% at an alpha of 0.02.</b>\n"
   ]
  },
  {
   "cell_type": "code",
   "execution_count": null,
   "metadata": {},
   "outputs": [],
   "source": []
  }
 ],
 "metadata": {
  "interpreter": {
   "hash": "d9e4803da988dc070712e37fe1ba1df1cb4573f2fe7d9fe88b0c597a7c79a9a8"
  },
  "kernelspec": {
   "display_name": "Python 3.9.7 64-bit",
   "name": "python3"
  },
  "language_info": {
   "codemirror_mode": {
    "name": "ipython",
    "version": 3
   },
   "file_extension": ".py",
   "mimetype": "text/x-python",
   "name": "python",
   "nbconvert_exporter": "python",
   "pygments_lexer": "ipython3",
   "version": "3.9.7"
  },
  "orig_nbformat": 4
 },
 "nbformat": 4,
 "nbformat_minor": 2
}
