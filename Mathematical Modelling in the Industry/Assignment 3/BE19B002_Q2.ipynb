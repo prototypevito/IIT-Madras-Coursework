{
 "cells": [
  {
   "cell_type": "code",
   "execution_count": 1,
   "metadata": {},
   "outputs": [],
   "source": [
    "#Inputing the given data\n",
    "header=[\"Age\",\"Salary\",\"Class\"]\n",
    "training_data=[ [30,65,\"G\"],\n",
    "                [23,15,\"B\"],\n",
    "                [40,75,\"G\"],\n",
    "                [55,40,\"B\"],\n",
    "                [55,100,\"G\"],\n",
    "                [45,60,\"G\"],\n",
    "                ]\n",
    "\n",
    "#functions to calculate unique values in a column and a dictionary with the classes in a dataframe and the number of each class.\n",
    "def unique_vals(rows,col):\n",
    "    return set([row[col] for row in rows])\n",
    "\n",
    "def class_counts(rows): #returns a dictionary with the class and the count for that class\n",
    "    counts={} #empty dictionary with count for every class\n",
    "    for row in rows:\n",
    "        label=row[-1]\n",
    "        if label not in counts:\n",
    "            counts[label]=0\n",
    "        counts[label]+=1\n",
    "    return counts\n",
    "\n"
   ]
  },
  {
   "cell_type": "code",
   "execution_count": 2,
   "metadata": {},
   "outputs": [],
   "source": [
    "#A class to create a question for a given attribute. It takes the index of the column in the dataframe and also the value which needs to be checked for.\n",
    "#In this model, I have not pre sorted the array, since the input test data is not huge.\n",
    "#Therefore, I have also not taken the average of the value vi,vi+1 with the minimum gini index at value vi. I have taken value vi for simplicity of the code.\n",
    "class Question:\n",
    "\n",
    "    def __init__(self,col_index,value):\n",
    "        self.col_index=col_index\n",
    "        self.value=value\n",
    "    \n",
    "    def match(self,example):\n",
    "        val=example[self.col_index]\n",
    "        return val<=self.value\n",
    "    \n",
    "    def __repr__(self):\n",
    "        a=header[self.col_index]\n",
    "        b=str(self.value)\n",
    "        return f\"Is {a} <= {b}?\"\n",
    "\n",
    "#Question(1,3)\n",
    "#q=Question(0,35)\n",
    "#example=training_data[0]\n",
    "#q.match(example)\n"
   ]
  },
  {
   "cell_type": "code",
   "execution_count": 3,
   "metadata": {},
   "outputs": [],
   "source": [
    "#Partitions the rows into true and false/ left and right rows, with the question given to the function.\n",
    "def partition(rows,question):\n",
    "    true_rows,false_rows=[],[]\n",
    "    for example in rows:\n",
    "        if question.match(example):\n",
    "            true_rows.append(example)\n",
    "        else:\n",
    "            false_rows.append(example)\n",
    "    return true_rows,false_rows\n",
    "#true_rows, false_rows = partition(training_data, Question(0, 35))\n",
    "#true_rows"
   ]
  },
  {
   "cell_type": "code",
   "execution_count": 4,
   "metadata": {},
   "outputs": [],
   "source": [
    "#Calculates the gini_index of the input dataframe/ rows.\n",
    "def gini_index(rows):\n",
    "    counts=class_counts(rows)\n",
    "    impurity=1\n",
    "    for label in counts:\n",
    "        prob_label=counts[label]/len(rows)\n",
    "        impurity-=(prob_label)**2\n",
    "    return impurity\n",
    "\n",
    "#calculates the info gain/ cumulative gini index.\n",
    "def info_gain(left,right,current_uncertainty):\n",
    "    len1=len(left)\n",
    "    len2=len(right)\n",
    "    p=float(len1/(len1+len2))\n",
    "    return current_uncertainty-(p*(gini_index(left))+(1-p)*(gini_index(right)))\n"
   ]
  },
  {
   "cell_type": "code",
   "execution_count": 5,
   "metadata": {},
   "outputs": [],
   "source": [
    "#function to find the best split from the given dataframe\n",
    "def find_best_split(rows):\n",
    "    best_gain=0\n",
    "    best_question=None\n",
    "    current_uncertainty=gini_index(rows)\n",
    "    n_features=len(rows[0])-1 #no of columns\n",
    "\n",
    "    for col in range(n_features):\n",
    "        values=set([row[col] for row in rows])\n",
    "\n",
    "        for val in values:\n",
    "            question=Question(col,val)\n",
    "            true_rows,false_rows=partition(rows,question)\n",
    "            if len(true_rows)==0 or len(false_rows)==0:\n",
    "                continue\n",
    "            gain=info_gain(true_rows,false_rows,current_uncertainty)\n",
    "            if gain>=best_gain:\n",
    "                best_gain,best_question=gain,question\n",
    "    return best_gain,best_question"
   ]
  },
  {
   "cell_type": "code",
   "execution_count": 6,
   "metadata": {},
   "outputs": [],
   "source": [
    "#Defines two classes, Leaf and Decision Node, used for storage purposes\n",
    "class Leaf:\n",
    "    def __init__(self,rows):\n",
    "        self.predictions=class_counts(rows)\n",
    "class Decision_Node:\n",
    "    def __init__(self,question,true_branch,false_branch):\n",
    "        self.question=question\n",
    "        self.true_branch=true_branch\n",
    "        self.false_branch=false_branch\n",
    "       "
   ]
  },
  {
   "cell_type": "code",
   "execution_count": 7,
   "metadata": {},
   "outputs": [],
   "source": [
    "#the main function where the tree is built. It is a recursive function that returns the Decision Node if gain is not equal to zero and a leaf if the gain is zero.\n",
    "def build_tree(rows):\n",
    "    if len(rows)==len(training_data):\n",
    "        question=Question(0,35)\n",
    "        true_rows,false_rows=partition(rows,question)\n",
    "        uncertainty=gini_index(rows)\n",
    "        gain=info_gain(true_rows,false_rows,uncertainty)\n",
    "    else:\n",
    "        gain, question = find_best_split(rows)\n",
    "        if gain==0:\n",
    "            return Leaf(rows)\n",
    "        true_rows, false_rows=partition(rows,question)\n",
    "        \n",
    "    true_branch=build_tree(true_rows)\n",
    "    false_branch=build_tree(false_rows)\n",
    "\n",
    "    return Decision_Node(question,true_branch,false_branch)"
   ]
  },
  {
   "cell_type": "code",
   "execution_count": 8,
   "metadata": {},
   "outputs": [],
   "source": [
    "#funtcion used to print the tree.\n",
    "def print_tree(node, spacing=\"\"):\n",
    "\n",
    "    # Base case: we've reached a leaf\n",
    "    if isinstance(node, Leaf):\n",
    "        print (spacing + \"Predict\", node.predictions)\n",
    "        return\n",
    "\n",
    "    # Print the question at this node\n",
    "    print (spacing + str(node.question))\n",
    "\n",
    "    # Call this function recursively on the true branch\n",
    "    print (spacing + '--> True:')\n",
    "    print_tree(node.true_branch, spacing + \"  \")\n",
    "\n",
    "    # Call this function recursively on the false branch\n",
    "    print (spacing + '--> False:')\n",
    "    print_tree(node.false_branch, spacing + \"  \")"
   ]
  },
  {
   "cell_type": "code",
   "execution_count": 9,
   "metadata": {},
   "outputs": [
    {
     "name": "stdout",
     "output_type": "stream",
     "text": [
      "Is Age <= 35?\n",
      "--> True:\n",
      "  Is Salary <= 15?\n",
      "  --> True:\n",
      "    Predict {'B': 1}\n",
      "  --> False:\n",
      "    Predict {'G': 1}\n",
      "--> False:\n",
      "  Is Salary <= 40?\n",
      "  --> True:\n",
      "    Predict {'B': 1}\n",
      "  --> False:\n",
      "    Predict {'G': 3}\n"
     ]
    }
   ],
   "source": [
    "#Inputing the training data and printing out the results\n",
    "my_tree=build_tree(training_data)\n",
    "print_tree(my_tree)"
   ]
  }
 ],
 "metadata": {
  "interpreter": {
   "hash": "d9e4803da988dc070712e37fe1ba1df1cb4573f2fe7d9fe88b0c597a7c79a9a8"
  },
  "kernelspec": {
   "display_name": "Python 3.9.7 64-bit",
   "name": "python3"
  },
  "language_info": {
   "codemirror_mode": {
    "name": "ipython",
    "version": 3
   },
   "file_extension": ".py",
   "mimetype": "text/x-python",
   "name": "python",
   "nbconvert_exporter": "python",
   "pygments_lexer": "ipython3",
   "version": "3.9.7"
  },
  "orig_nbformat": 4
 },
 "nbformat": 4,
 "nbformat_minor": 2
}
