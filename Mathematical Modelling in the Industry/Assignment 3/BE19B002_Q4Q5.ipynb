{
 "cells": [
  {
   "cell_type": "markdown",
   "metadata": {},
   "source": [
    "<b>We first create the Classification tree using the data given in the question. That will solve Question 4. After that we test the classification tree on random data and return if the the driver is at risk or no. This will solve Q5. </b>"
   ]
  },
  {
   "cell_type": "code",
   "execution_count": 1,
   "metadata": {},
   "outputs": [],
   "source": [
    "#Importing the libraries.\n",
    "import numpy as np\n",
    "import pandas as pd\n",
    "import matplotlib.pyplot as plt\n",
    "import random \n",
    "import sklearn\n",
    "from sklearn.preprocessing import LabelEncoder\n",
    "from sklearn.model_selection import train_test_split\n",
    "from sklearn.tree import DecisionTreeClassifier\n",
    "from sklearn.metrics import classification_report\n",
    "from sklearn.tree import plot_tree"
   ]
  },
  {
   "cell_type": "code",
   "execution_count": 2,
   "metadata": {},
   "outputs": [],
   "source": [
    "#Inputing the test data.\n",
    "age=np.array([23,17,43,68,32,20])\n",
    "car_type=np.array([\"family\",\"sports\",\"sports\",\"family\",\"truck\",\"family\"])\n",
    "risk=np.array([\"High\",\"High\",\"High\",\"Low\",\"Low\",\"High\"])\n",
    "\n",
    "attributes=[age,car_type,risk]\n",
    "df=pd.DataFrame(attributes).transpose()\n",
    "df.columns=[\"Age\",\"Car_type\",\"Risk\"]\n",
    "df = pd.get_dummies(df, columns = ['Car_type'])\n",
    "\n",
    "dummy1=df.copy()\n",
    "dummy1.drop(\"Risk\",axis=1,inplace=True)\n",
    "X=dummy1\n",
    "y=risk"
   ]
  },
  {
   "cell_type": "code",
   "execution_count": 3,
   "metadata": {},
   "outputs": [
    {
     "name": "stdout",
     "output_type": "stream",
     "text": [
      "Decision Tree Classifier Created\n"
     ]
    },
    {
     "data": {
      "image/png": "[encoded data removed]",
      "text/plain": [
       "<Figure size 432x288 with 1 Axes>"
      ]
     },
     "metadata": {
      "needs_background": "light"
     },
     "output_type": "display_data"
    }
   ],
   "source": [
    "dtree=DecisionTreeClassifier()\n",
    "dtree.fit(X,y)\n",
    "print(\"Decision Tree Classifier Created\")\n",
    "dec_tree = plot_tree(decision_tree=dtree, feature_names = X.columns, \n",
    "                     class_names =[\"High\", \"Low\"] , filled = True , precision = 4, rounded = True)"
   ]
  },
  {
   "cell_type": "markdown",
   "metadata": {},
   "source": [
    "<b> Question 5 is from the next cell. I have used 100 random samples, since the number of samples was not mentioned.</b>"
   ]
  },
  {
   "cell_type": "code",
   "execution_count": 4,
   "metadata": {},
   "outputs": [
    {
     "data": {
      "text/html": [
       "<div>\n",
       "<style scoped>\n",
       "    .dataframe tbody tr th:only-of-type {\n",
       "        vertical-align: middle;\n",
       "    }\n",
       "\n",
       "    .dataframe tbody tr th {\n",
       "        vertical-align: top;\n",
       "    }\n",
       "\n",
       "    .dataframe thead th {\n",
       "        text-align: right;\n",
       "    }\n",
       "</style>\n",
       "<table border=\"1\" class=\"dataframe\">\n",
       "  <thead>\n",
       "    <tr style=\"text-align: right;\">\n",
       "      <th></th>\n",
       "      <th>Age</th>\n",
       "      <th>Car_type_family</th>\n",
       "      <th>Car_type_sports</th>\n",
       "      <th>Car_type_truck</th>\n",
       "      <th>Risk</th>\n",
       "    </tr>\n",
       "  </thead>\n",
       "  <tbody>\n",
       "    <tr>\n",
       "      <th>0</th>\n",
       "      <td>31</td>\n",
       "      <td>0</td>\n",
       "      <td>1</td>\n",
       "      <td>0</td>\n",
       "      <td>High</td>\n",
       "    </tr>\n",
       "    <tr>\n",
       "      <th>1</th>\n",
       "      <td>23</td>\n",
       "      <td>0</td>\n",
       "      <td>0</td>\n",
       "      <td>1</td>\n",
       "      <td>High</td>\n",
       "    </tr>\n",
       "    <tr>\n",
       "      <th>2</th>\n",
       "      <td>59</td>\n",
       "      <td>0</td>\n",
       "      <td>0</td>\n",
       "      <td>1</td>\n",
       "      <td>Low</td>\n",
       "    </tr>\n",
       "    <tr>\n",
       "      <th>3</th>\n",
       "      <td>18</td>\n",
       "      <td>0</td>\n",
       "      <td>1</td>\n",
       "      <td>0</td>\n",
       "      <td>High</td>\n",
       "    </tr>\n",
       "    <tr>\n",
       "      <th>4</th>\n",
       "      <td>23</td>\n",
       "      <td>0</td>\n",
       "      <td>1</td>\n",
       "      <td>0</td>\n",
       "      <td>High</td>\n",
       "    </tr>\n",
       "  </tbody>\n",
       "</table>\n",
       "</div>"
      ],
      "text/plain": [
       "  Age  Car_type_family  Car_type_sports  Car_type_truck  Risk\n",
       "0  31                0                1               0  High\n",
       "1  23                0                0               1  High\n",
       "2  59                0                0               1   Low\n",
       "3  18                0                1               0  High\n",
       "4  23                0                1               0  High"
      ]
     },
     "execution_count": 4,
     "metadata": {},
     "output_type": "execute_result"
    }
   ],
   "source": [
    "age=np.random.randint(17,70,size=100)\n",
    "car_type=np.random.choice([\"family\", \"sports\", \"truck\"], size=100)\n",
    "\n",
    "attributes=[age,car_type]\n",
    "df2=pd.DataFrame(attributes).transpose()\n",
    "df2.columns=[\"Age\",\"Car_type\"]\n",
    "df2= pd.get_dummies(df2, columns = ['Car_type'])\n",
    "df2.head()\n",
    "y_pred=dtree.predict(df2)\n",
    "final_answer=df2.copy()\n",
    "final_answer[\"Risk\"]=y_pred\n",
    "final_answer.head()\n",
    "\n",
    "\n"
   ]
  },
  {
   "cell_type": "markdown",
   "metadata": {},
   "source": [
    "<b>The final_answer dataframe gives the Risk of each driver in the random sample size of 100 drivers, derived using the classification tree prepared in Q4.</b>"
   ]
  },
  {
   "cell_type": "markdown",
   "metadata": {},
   "source": []
  }
 ],
 "metadata": {
  "interpreter": {
   "hash": "d9e4803da988dc070712e37fe1ba1df1cb4573f2fe7d9fe88b0c597a7c79a9a8"
  },
  "kernelspec": {
   "display_name": "Python 3.9.7 64-bit",
   "name": "python3"
  },
  "language_info": {
   "codemirror_mode": {
    "name": "ipython",
    "version": 3
   },
   "file_extension": ".py",
   "mimetype": "text/x-python",
   "name": "python",
   "nbconvert_exporter": "python",
   "pygments_lexer": "ipython3",
   "version": "3.9.7"
  },
  "orig_nbformat": 4
 },
 "nbformat": 4,
 "nbformat_minor": 2
}
